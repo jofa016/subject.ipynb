{
 "cells": [
  {
   "cell_type": "markdown",
   "metadata": {
    "pycharm": {
     "name": "#%% md\n"
    }
   },
   "source": [
    "# KUC, PGR107\n",
    "# HW2\n"
   ]
  },
  {
   "cell_type": "markdown",
   "metadata": {
    "pycharm": {
     "name": "#%% md\n"
    }
   },
   "source": [
    "## There are three tasks and should be finished and submitted through groups.\n",
    "## Each group is suggested to have 1-5 members.\n",
    "## In the submission, please include your implementation (executable code) as .ipynb document.\n",
    "## List your group name and group member information in the top (written in comments).\n"
   ]
  },
  {
   "cell_type": "markdown",
   "metadata": {
    "pycharm": {
     "name": "#%% md\n"
    }
   },
   "source": [
    "### P4.1 Tuple\n",
    "\n",
    "#### Create a tuple A: all of the elements are string type.\n",
    "#### Create a tuple B: all of the elements are int type.\n",
    "Then perform the following:\n",
    "- 4.1.1 Output the length of the tuple A.\n",
    "- 4.1.2 Using slicing to extract the elements from the last to the second location.\n",
    "- 4.1.3 Create a tuple C by combining A, B.\n",
    "- 4.1.4 Create a list D by Combining A, B.\n",
    "- 4.1.5 Create a dictionary E, by combining tuple A and B (hint: using zip)\n"
   ]
  },
  {
   "cell_type": "code",
   "execution_count": 5,
   "outputs": [
    {
     "name": "stdout",
     "output_type": "stream",
     "text": [
      "5\n",
      "('is', 'the', 'seccond', 'assignment')\n",
      "(10, 15, 20)\n",
      "(('This', 5), ('is', 10), ('the', 15), ('seccond', 20))\n",
      "[('This', 5), ('is', 10), ('the', 15), ('seccond', 20)]\n",
      "{'This': 5, 'is': 10, 'the': 15, 'seccond': 20}\n"
     ]
    }
   ],
   "source": [
    "TA = ('This','is','the','seccond','assignment')\n",
    "TB = (5,10,15,20)\n",
    "# 4.1.1\n",
    "print(len(TA))\n",
    "\n",
    "# 4.1.2\n",
    "print(TA[1:5])\n",
    "print(TB[1:4])\n",
    "# 4.1.3\n",
    "TC = tuple(zip(TA,TB))\n",
    "print(tuple(TC))\n",
    "\n",
    "# 4.1.4\n",
    "listD = list(zip(TA,TB))\n",
    "print(listD)\n",
    "\n",
    "# 4.1.5\n",
    "dictE = dict(zip(TA,TB))\n",
    "print(dictE)\n"
   ],
   "metadata": {
    "collapsed": false,
    "pycharm": {
     "name": "#%%\n"
    }
   }
  },
  {
   "cell_type": "markdown",
   "metadata": {
    "pycharm": {
     "name": "#%% md\n"
    }
   },
   "source": [
    "### P4.2 List"
   ]
  },
  {
   "cell_type": "markdown",
   "metadata": {
    "pycharm": {
     "name": "#%% md\n"
    }
   },
   "source": [
    "#### P4.2.1 There is a list str_1 = ['Thank']. Add 'You' after the '' in str_1 and output str_1.\n",
    "\n",
    "#### P4.2.2 There is a list str_2 = ['Thank', 'you', 'much']. Add 'so' after 'you' in str_2 to output greetin_2.\n",
    "\n",
    "#### P4.2.3 There is a list str_3 = ['Thank', 'you', 'so', 'very', 'much']. Remove the element 'very.' from str_3 and output str_3.\n"
   ]
  },
  {
   "cell_type": "code",
   "execution_count": 9,
   "outputs": [
    {
     "name": "stdout",
     "output_type": "stream",
     "text": [
      "['Thank', 'You']\n",
      "['Thank', 'you', 'so', 'much']\n",
      "['Thank', 'you', 'so', 'much']\n"
     ]
    }
   ],
   "source": [
    "# 4.2.1\n",
    "str_1 = list(['Thank'])\n",
    "str_1.append('You')\n",
    "print(str_1)\n",
    "\n",
    "# 4.2.2\n",
    "str_2 = list(['Thank','you','much'])\n",
    "str_2.insert(2,'so')\n",
    "print(str_2)\n",
    "\n",
    "# 4.2.3\n",
    "str_3 = list(['Thank','you','so','very','much'])\n",
    "str_3.pop(3)\n",
    "print(str_3)"
   ],
   "metadata": {
    "collapsed": false,
    "pycharm": {
     "name": "#%%\n"
    }
   }
  },
  {
   "cell_type": "markdown",
   "source": [
    "### P4.3 Dictionary\n",
    "\n",
    "#### P4.3.1 Show the list of keys in the vegetable_dict.\n",
    "#### P4.3.2 Calculate and output the average value of vegetable_dict.\n",
    "\n",
    "vegetable_dict = {'Tomato':40, 'Carrot':20, 'Eggplant':50, 'Onion':30, 'Potato':35}\n",
    "\n"
   ],
   "metadata": {
    "collapsed": false,
    "pycharm": {
     "name": "#%% md\n"
    }
   }
  },
  {
   "cell_type": "code",
   "execution_count": 9,
   "outputs": [
    {
     "name": "stdout",
     "output_type": "stream",
     "text": [
      "Tomato\n",
      "Carrot\n",
      "Eggplant\n",
      "Onion\n",
      "Potato\n",
      "Tomato : 40\n",
      "Carrot : 20\n",
      "Eggplant : 50\n",
      "Onion : 30\n",
      "Potato : 35\n"
     ]
    }
   ],
   "source": [
    "# 4.3.1\n",
    "vegetable_dict = {'Tomato':40, 'Carrot':20, 'Eggplant':50, 'Onion':30, 'Potato':35}\n",
    "for key in vegetable_dict:\n",
    "    print(key)\n",
    "\n",
    "for key, value in vegetable_dict.items():\n",
    "    print(key,':', value)\n"
   ],
   "metadata": {
    "collapsed": false,
    "pycharm": {
     "name": "#%%\n"
    }
   }
  }
 ],
 "metadata": {
  "kernelspec": {
   "display_name": "Python 3",
   "language": "python",
   "name": "python3"
  },
  "language_info": {
   "codemirror_mode": {
    "name": "ipython",
    "version": 3
   },
   "file_extension": ".py",
   "mimetype": "text/x-python",
   "name": "python",
   "nbconvert_exporter": "python",
   "pygments_lexer": "ipython3",
   "version": "3.8.5"
  }
 },
 "nbformat": 4,
 "nbformat_minor": 5
}