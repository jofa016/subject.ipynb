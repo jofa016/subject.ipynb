{
 "cells": [
  {
   "cell_type": "markdown",
   "id": "d554a4e3",
   "metadata": {
    "pycharm": {
     "name": "#%% md\n"
    }
   },
   "source": [
    "# KUC, PGR107\n",
    "# HW3\n"
   ]
  },
  {
   "cell_type": "markdown",
   "id": "46988d03",
   "metadata": {
    "pycharm": {
     "name": "#%% md\n"
    }
   },
   "source": [
    "## There are three tasks and should be finished and submitted through groups.\n",
    "## Each group is suggested to have 1-5 members.\n",
    "## In the submission, please include your implementation (executable code) as .ipynb document.\n",
    "## List your group name and group member information in the top (written in comments).\n"
   ]
  },
  {
   "cell_type": "markdown",
   "id": "20424491",
   "metadata": {
    "pycharm": {
     "name": "#%% md\n"
    }
   },
   "source": [
    "### P5.1 Strings\n",
    "\n",
    "#### Use the string str: \"Python Programming\" for questions 5.1.1 to 5.1.3.\n",
    "\n",
    "- 5.1.1 Iterate the string to calculate the length of str (hint: use for loop and len()).\n",
    "\n",
    "- 5.1.2 String Indexing: \n",
    "    - a. Get the index number of the letter \"o\" in the string.\n",
    "    - b. Find \"Program\" in the string segment \"Programming\".\n",
    "        \n",
    "- 5.1.3 Use slice to get the following:\n",
    "     - a. \"thon\"\n",
    "     - b. \"gnimmargorP\"\n",
    "     - c. \"Pto \"\n",
    "\n",
    "- 5.1.4 Create a new string and convert it to float.\n",
    "\n",
    "- 5.1.5 Write a program that asks the user to enter his age and print it using the f-string method.\n"
   ]
  },
  {
   "cell_type": "code",
   "execution_count": 68,
   "outputs": [
    {
     "name": "stdout",
     "output_type": "stream",
     "text": [
      "17\n",
      "17\n",
      " \"o\" found : 2\n",
      " \"Program\" found : 9\n",
      "thon\n",
      "gnimargorP \n",
      "Pto\n",
      "<class 'float'>\n",
      "7.14\n",
      "your age is 6\n"
     ]
    }
   ],
   "source": [
    "# -----------------------------------------  5.1.1\n",
    "def FindLen(str):\n",
    "    counting = 0\n",
    "    for i in str:\n",
    "        counting += 1\n",
    "    return counting\n",
    "\n",
    "string = 'Python Programing'\n",
    "print(FindLen(string))\n",
    "print(len(string))\n",
    "\n",
    "# --------------------------------------------5.1.2\n",
    "# a)\n",
    "import re\n",
    "Letter_o = len(re.findall('[o]', string))\n",
    "print(' \"o\" found :', Letter_o)\n",
    "\n",
    "# b)\n",
    "P_string = 'Programming'                                        # This is wrong?\n",
    "Program = len(re.findall('[Program]', P_string))\n",
    "print(' \"Program\" found :', Program)\n",
    "\n",
    "# s = 'Programming'\n",
    "# result = s.find('Program')\n",
    "# print(result)\n",
    "\n",
    "# ------------------------------------------------ 5.1.3 Use slice to get the following:\n",
    "# a. \"thon\"\n",
    "print(string[2:6])\n",
    "\n",
    "# b. \"gnimmargorP\"\n",
    "Reversed = ''.join(reversed(string[6:]))\n",
    "print(Reversed)\n",
    "\n",
    "# c. \"Pto \"\n",
    "print(string[0:5:2])\n",
    "\n",
    "# ------------------------------------------------- 5.1.3\n",
    "S_numbers = '7.14'\n",
    "F_numbers = float(S_numbers)\n",
    "print(type(F_numbers))\n",
    "print(F_numbers)\n",
    "# ------------------------------------------------- 5.1.4\n",
    "Age = input('please enter your age:')\n",
    "print('your age is %s' %Age)"
   ],
   "metadata": {
    "collapsed": false,
    "pycharm": {
     "name": "#%%\n"
    }
   }
  },
  {
   "cell_type": "markdown",
   "id": "3f521946",
   "metadata": {
    "pycharm": {
     "name": "#%% md\n"
    }
   },
   "source": [
    "### P5.2 Files and operating system\n",
    "\n",
    "- 5.2.1 Create a .txt file and add few lines into the file.\n",
    "\n",
    "- 5.2.2 Load the .txt file\n",
    "\n",
    "- 5.2.3 Read the lines from the .txt file"
   ]
  },
  {
   "cell_type": "code",
   "execution_count": 71,
   "outputs": [
    {
     "name": "stdout",
     "output_type": "stream",
     "text": [
      "Just some random text\n",
      "Just some random text\n"
     ]
    }
   ],
   "source": [
    "# -------------------------------- 5.2.1\n",
    "# Named the textfile as TextHW3\n",
    "\n",
    "# -------------------------------- 5.2.2\n",
    "path = 'TextHW3'\n",
    "f = open(path)\n",
    "\n",
    "for line in f:\n",
    "    print(line)\n",
    "\n",
    "f.close()\n",
    "\n",
    "# --------------------------------- 5.2.3\n",
    "with open('TextHW3','r') as f:\n",
    "    data = f.read()\n",
    "    print(data)\n",
    "\n",
    "    f.close()\n"
   ],
   "metadata": {
    "collapsed": false,
    "pycharm": {
     "name": "#%%\n"
    }
   }
  }
 ],
 "metadata": {
  "kernelspec": {
   "display_name": "Python 3 (ipykernel)",
   "language": "python",
   "name": "python3"
  },
  "language_info": {
   "codemirror_mode": {
    "name": "ipython",
    "version": 3
   },
   "file_extension": ".py",
   "mimetype": "text/x-python",
   "name": "python",
   "nbconvert_exporter": "python",
   "pygments_lexer": "ipython3",
   "version": "3.9.12"
  }
 },
 "nbformat": 4,
 "nbformat_minor": 5
}