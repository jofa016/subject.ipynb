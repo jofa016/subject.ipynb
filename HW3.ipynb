{
 "cells": [
  {
   "cell_type": "markdown",
   "id": "d554a4e3",
   "metadata": {
    "pycharm": {
     "name": "#%% md\n"
    }
   },
   "source": [
    "# KUC, PGR107\n",
    "# HW3\n"
   ]
  },
  {
   "cell_type": "markdown",
   "id": "46988d03",
   "metadata": {
    "pycharm": {
     "name": "#%% md\n"
    }
   },
   "source": [
    "## There are three tasks and should be finished and submitted through groups.\n",
    "## Each group is suggested to have 1-5 members.\n",
    "## In the submission, please include your implementation (executable code) as .ipynb document.\n",
    "## List your group name and group member information in the top (written in comments).\n"
   ]
  },
  {
   "cell_type": "markdown",
   "id": "20424491",
   "metadata": {
    "pycharm": {
     "name": "#%% md\n"
    }
   },
   "source": [
    "### P5.1 Strings\n",
    "\n",
    "#### Use the string str: \"Python Programming\" for questions 5.1.1 to 5.1.3.\n",
    "\n",
    "- 5.1.1 Iterate the string to calculate the length of str (hint: use for loop and len()).\n",
    "\n",
    "- 5.1.2 String Indexing: \n",
    "    - a. Get the index number of the letter \"o\" in the string.\n",
    "    - b. Find \"Program\" in the string segment \"Programming\".\n",
    "        \n",
    "- 5.1.3 Use slice to get the following:\n",
    "     - a. \"thon\"\n",
    "     - b. \"gnimmargorP\"\n",
    "     - c. \"Pto \"\n",
    "\n",
    "- 5.1.4 Create a new string and convert it to float.\n",
    "\n",
    "- 5.1.5 Write a program that asks the user to enter his age and print it using the f-string method.\n"
   ]
  },
  {
   "cell_type": "code",
   "execution_count": 24,
   "outputs": [
    {
     "name": "stdout",
     "output_type": "stream",
     "text": [
      "17\n",
      "17\n",
      "#1 \"o\" found : 2\n",
      "#2 \"o\" found: 2\n",
      " \"Program\" found : 9\n",
      "1\n",
      "thon\n",
      "gnimargorP \n",
      "Pto\n",
      "<class 'float'>\n",
      "7.14\n"
     ]
    },
    {
     "ename": "NameError",
     "evalue": "name 'Age' is not defined",
     "output_type": "error",
     "traceback": [
      "\u001B[1;31m---------------------------------------------------------------------------\u001B[0m",
      "\u001B[1;31mNameError\u001B[0m                                 Traceback (most recent call last)",
      "Input \u001B[1;32mIn [24]\u001B[0m, in \u001B[0;36m<cell line: 51>\u001B[1;34m()\u001B[0m\n\u001B[0;32m     48\u001B[0m \u001B[38;5;28mprint\u001B[39m(F_numbers)\n\u001B[0;32m     49\u001B[0m \u001B[38;5;66;03m# ------------------------------------------------- 5.1.4\u001B[39;00m\n\u001B[0;32m     50\u001B[0m \u001B[38;5;66;03m#Age = input('please enter your age:')\u001B[39;00m\n\u001B[1;32m---> 51\u001B[0m \u001B[38;5;28mprint\u001B[39m(\u001B[38;5;124m'\u001B[39m\u001B[38;5;124myour age is \u001B[39m\u001B[38;5;132;01m%s\u001B[39;00m\u001B[38;5;124m'\u001B[39m \u001B[38;5;241m%\u001B[39m\u001B[43mAge\u001B[49m)\n",
      "\u001B[1;31mNameError\u001B[0m: name 'Age' is not defined"
     ]
    }
   ],
   "source": [
    "# -----------------------------------------------------------  5.1.1\n",
    "def FindLen(str):\n",
    "    counting = 0\n",
    "    for i in str:\n",
    "        counting += 1\n",
    "    return counting\n",
    "\n",
    "string = 'Python Programing'\n",
    "print(FindLen(string))\n",
    "print(len(string))\n",
    "\n",
    "# --------------------------------------------------------------5.1.2\n",
    "# a)\n",
    "import re\n",
    "#Letter_o = len(re.findall('[o]', string))\n",
    "#print('#1 \"o\" found :', Letter_o)\n",
    "print('#1 \"o\" found :', len(re.findall('[o]',string)))\n",
    "\n",
    "#Find_o = 'o'\n",
    "#count_o = string.count(Find_o)\n",
    "#print('#2 \"o\" found:',count_o)\n",
    "print('#2 \"o\" found:',string.count('o'))\n",
    "\n",
    "# b)\n",
    "P_string = 'Programming'                                        # This is wrong?\n",
    "Program = len(re.findall('[Program]', P_string))\n",
    "print(' \"Program\" found :', Program)\n",
    "\n",
    "Find_Prg = 'Program'\n",
    "count_Prg = P_string.count(Find_Prg)\n",
    "print(count_Prg)\n",
    "\n",
    "# ------------------------------------------------------- 5.1.3 Use slice to get the following:\n",
    "# a. \"thon\"\n",
    "print(string[2:6])\n",
    "\n",
    "# b. \"gnimmargorP\"\n",
    "Reversed = ''.join(reversed(string[6:]))\n",
    "print(Reversed)\n",
    "\n",
    "# c. \"Pto \"\n",
    "print(string[0:5:2])\n",
    "\n",
    "# ------------------------------------------------- 5.1.3\n",
    "S_numbers = '7.14'\n",
    "F_numbers = float(S_numbers)\n",
    "print(type(F_numbers))\n",
    "print(F_numbers)\n",
    "# ----------------------------------------------------- 5.1.4\n",
    "Age = input('please enter your age:')\n",
    "print('your age is %s' %Age)"
   ],
   "metadata": {
    "collapsed": false,
    "pycharm": {
     "name": "#%%\n"
    }
   }
  },
  {
   "cell_type": "markdown",
   "id": "3f521946",
   "metadata": {
    "pycharm": {
     "name": "#%% md\n"
    }
   },
   "source": [
    "### P5.2 Files and operating system\n",
    "\n",
    "- 5.2.1 Create a .txt file and add few lines into the file.\n",
    "\n",
    "- 5.2.2 Load the .txt file\n",
    "\n",
    "- 5.2.3 Read the lines from the .txt file"
   ]
  },
  {
   "cell_type": "code",
   "execution_count": 25,
   "outputs": [
    {
     "name": "stdout",
     "output_type": "stream",
     "text": [
      "Just some random text\n",
      "Just some random text\n"
     ]
    }
   ],
   "source": [
    "# ------------------------------------------- 5.2.1\n",
    "# Named the textfile as TextHW3\n",
    "\n",
    "# ------------------------------------------- 5.2.2\n",
    "path = 'TextHW3'\n",
    "f = open(path)\n",
    "\n",
    "for line in f:\n",
    "    print(line)\n",
    "\n",
    "f.close()\n",
    "\n",
    "# ------------------------------------------- 5.2.3\n",
    "with open('TextHW3','r') as f:\n",
    "    data = f.read()\n",
    "    print(data)\n",
    "\n",
    "    f.close()\n"
   ],
   "metadata": {
    "collapsed": false,
    "pycharm": {
     "name": "#%%\n"
    }
   }
  }
 ],
 "metadata": {
  "kernelspec": {
   "display_name": "Python 3 (ipykernel)",
   "language": "python",
   "name": "python3"
  },
  "language_info": {
   "codemirror_mode": {
    "name": "ipython",
    "version": 3
   },
   "file_extension": ".py",
   "mimetype": "text/x-python",
   "name": "python",
   "nbconvert_exporter": "python",
   "pygments_lexer": "ipython3",
   "version": "3.9.12"
  }
 },
 "nbformat": 4,
 "nbformat_minor": 5
}