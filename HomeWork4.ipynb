{
 "cells": [
  {
   "cell_type": "markdown",
   "id": "8cc4639a",
   "metadata": {},
   "source": [
    "# KUC, PGR107\n",
    "# HW4\n"
   ]
  },
  {
   "cell_type": "markdown",
   "id": "e1e40774",
   "metadata": {},
   "source": [
    "## There are three tasks and should be finished and submitted through groups.\n",
    "## Each group is suggested to have 1-5 members.\n",
    "## In the submission, please include your implementation (executable code) as .ipynb document.\n",
    "## List your group name and group member information in the top (written in comments).\n"
   ]
  },
  {
   "cell_type": "markdown",
   "id": "7278ee5c",
   "metadata": {},
   "source": [
    "### P4.1 Write a program to create two arrays of shape (2,2) and (2,1) respectively containing any number of integers. Concatenat the two arrays and then split it horizontally."
   ]
  },
  {
   "cell_type": "code",
   "execution_count": 39,
   "id": "d70db277",
   "metadata": {},
   "outputs": [
    {
     "name": "stdout",
     "output_type": "stream",
     "text": [
      "first array (2,2):\n",
      " [[2 3]\n",
      " [4 5]]\n",
      "seccond array (2,1):\n",
      " [[22]\n",
      " [33]]\n",
      "Concatenat horizonaly:\n",
      " [[ 2  3 22]\n",
      " [ 4  5 33]]\n"
     ]
    }
   ],
   "source": [
    "import numpy as np\n",
    "\n",
    "a1 = np.array([2,3,4,5]).reshape((2,2))\n",
    "print('first array (2,2):\\n',a1)\n",
    "\n",
    "a2 = np.array([22,33]).reshape((2,1))\n",
    "print('seccond array (2,1):\\n',a2)\n",
    "\n",
    "print('Concatenat horizonaly:\\n',np.concatenate((a1, a2), axis=1))\n"
   ]
  },
  {
   "cell_type": "markdown",
   "id": "95f347c9",
   "metadata": {},
   "source": [
    "### P4.2 Give at least three examples along with their codes where broadcasting is not possible."
   ]
  },
  {
   "cell_type": "code",
   "execution_count": 119,
   "id": "87cc4e4f",
   "metadata": {},
   "outputs": [
    {
     "name": "stdout",
     "output_type": "stream",
     "text": [
      "[ 3  4  1 14]\n",
      "[[[9]\n",
      "  [4]\n",
      "  [3]\n",
      "  [3]]]\n",
      "[[[ 27  36   9 126]\n",
      "  [ 12  16   4  56]\n",
      "  [  9  12   3  42]\n",
      "  [  9  12   3  42]]]\n"
     ]
    }
   ],
   "source": [
    "arr1 = np.array([3,4,1,14])\n",
    "\n",
    "#arr2 = np.array([9,4,3])        #this doesnt work with arr2, arrays need to be in same shape/lenghth\n",
    "#arr2 = np.array([9],[4],[3],3)  # this will not work, all is not in same dimention\n",
    "\n",
    "#----------- need more examples\n",
    "\n",
    "\n",
    "#this example will work, dimention doesn not matter as long as all is in same dimention\n",
    "arr2 = np.array([[[9],[4],[3],[3]]])\n",
    "\n",
    "\n",
    "multiplied = np.multiply(arr1,arr2)\n",
    "print(arr1)\n",
    "print(arr2)\n",
    "print(multiplied)\n",
    "\n"
   ]
  },
  {
   "cell_type": "markdown",
   "id": "408e5534",
   "metadata": {},
   "source": [
    "### P4.3 Create two simple arrays a and b of any number of elements. Apply universal functions (refer to lecture slide#12) on the arguments, array a and array b."
   ]
  },
  {
   "cell_type": "code",
   "execution_count": 98,
   "id": "61647d42",
   "metadata": {},
   "outputs": [
    {
     "name": "stdout",
     "output_type": "stream",
     "text": [
      "[ 3  6  9 12] divided by 6 = [0.5 1.  1.5 2. ]\n",
      "[ 3  6  9 12] divided by [2 4 6 8] = [1.5 1.5 1.5 1.5]\n",
      "[2 4 6 8] multiplied by 2 = [ 4  8 12 16]\n",
      "[2 4 6 8] added by 3 = [ 5  7  9 11]\n",
      "[ 3  6  9 12] substracted by 3 = [0 3 6 9]\n",
      "[2 4 6 8] powered by 2 = [ 4 16 36 64]\n"
     ]
    }
   ],
   "source": [
    "def division(x,y):\n",
    "    print(x,'divided by',y,'=',np.divide(x,y))\n",
    "    \n",
    "def multiply(x,y):\n",
    "    print(x,'multiplied by',y,'=',np.multiply(x,y))\n",
    "\n",
    "def addision(x,y):\n",
    "    print(x,'added by',y,'=',np.add(x,y))\n",
    "    \n",
    "def substract(x,y):\n",
    "    print(x,'substracted by',y,'=',np.subtract(x,y))\n",
    "\n",
    "def powered(x,y):\n",
    "    print(x,'powered by',y,'=',np.power(x,y))\n",
    "    \n",
    "\n",
    "a = np.array([3,6,9,12])\n",
    "b = np.array([2,4,6,8])\n",
    "\n",
    "division(a,6)\n",
    "division(a,b)\n",
    "multiply(b,2)\n",
    "addision(b,3)\n",
    "substract(a,3)\n",
    "powered(b,2)"
   ]
  }
 ],
 "metadata": {
  "kernelspec": {
   "display_name": "Python 3 (ipykernel)",
   "language": "python",
   "name": "python3"
  },
  "language_info": {
   "codemirror_mode": {
    "name": "ipython",
    "version": 3
   },
   "file_extension": ".py",
   "mimetype": "text/x-python",
   "name": "python",
   "nbconvert_exporter": "python",
   "pygments_lexer": "ipython3",
   "version": "3.9.12"
  }
 },
 "nbformat": 4,
 "nbformat_minor": 5
}
