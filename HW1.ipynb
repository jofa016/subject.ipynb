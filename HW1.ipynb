{
 "cells": [
  {
   "cell_type": "code",
   "execution_count": null,
   "outputs": [],
   "source": [],
   "metadata": {
    "collapsed": false,
    "pycharm": {
     "name": "#%%\n"
    }
   }
  },
  {
   "cell_type": "markdown",
   "id": "9de5caef",
   "metadata": {
    "pycharm": {
     "name": "#%% md\n"
    }
   },
   "source": [
    "# KUC, PGR107\n",
    "# HW1\n"
   ]
  },
  {
   "cell_type": "markdown",
   "id": "613ba0c8",
   "metadata": {
    "pycharm": {
     "name": "#%% md\n"
    }
   },
   "source": [
    "## There are three tasks and should be finished and submitted through groups.\n",
    "## Each group is suggested to have 1-5 members.\n",
    "## In the submission, please include your implementation (executable code) as .ipynb document.\n",
    "## List your group name and group member information in the top (written in comments).\n"
   ]
  },
  {
   "cell_type": "markdown",
   "id": "b6ded39a",
   "metadata": {
    "pycharm": {
     "name": "#%% md\n"
    }
   },
   "source": [
    "### P3.1 Please change the following code to make it logically correct."
   ]
  },
  {
   "cell_type": "code",
   "execution_count": 27,
   "id": "c0ab1c0a",
   "metadata": {
    "pycharm": {
     "is_executing": true,
     "name": "#%%\n"
    }
   },
   "outputs": [
    {
     "name": "stdout",
     "output_type": "stream",
     "text": [
      "a is between 10 and 100.\n"
     ]
    }
   ],
   "source": [
    "a = 15\n",
    "if a >= 100:                             #original: if a > 0:\n",
    "    print('a is larger than 100.')\n",
    "elif a >= 10:\n",
    "    print('a is between 10 and 100.')\n",
    "elif a >= 0:                             #original: elif a > 100:\n",
    "    print(' a is between 0 and 10')\n",
    "else:\n",
    "    print('a is 0 or negative.')\n",
    "\n",
    "# Changing between 100 and 0"
   ]
  },
  {
   "cell_type": "markdown",
   "id": "eb3b2227",
   "metadata": {
    "pycharm": {
     "name": "#%% md\n"
    }
   },
   "source": [
    "### P3.2 Use if-elif-else structure to implement the following functions"
   ]
  },
  {
   "cell_type": "markdown",
   "id": "7aab4007",
   "metadata": {
    "pycharm": {
     "name": "#%% md\n"
    }
   },
   "source": [
    "#### P3.2.1 Two variables a and b, implement a function called compareTwoVariables(a,b) using if-elif-else to determine if a is less or equal or larger than b.\n",
    "\n",
    "#### P3.2.2 Assign a=10, b=17, call the function compareTwoVariables() to get correct output information\n",
    "\n",
    "#### P3.2.3 assign random values to variables x , y and z. Find the largest number among the three variables by calling the function compareTwoVariables().\n"
   ]
  },
  {
   "cell_type": "code",
   "execution_count": 1,
   "id": "854ad7a4",
   "metadata": {
    "pycharm": {
     "name": "#%%\n"
    }
   },
   "outputs": [
    {
     "name": "stdout",
     "output_type": "stream",
     "text": [
      "a is smaller than b\n"
     ]
    }
   ],
   "source": [
    "#  P 3.2.1\n",
    "def CompareTwoFunction(a,b):\n",
    "    if a == b:\n",
    "        print('a is equal to b')\n",
    "    elif a < b:\n",
    "        print('a is smaller than b')\n",
    "    else:\n",
    "        print('a is larger than b')\n",
    "\n",
    "CompareTwoFunction(1,5)"
   ]
  },
  {
   "cell_type": "code",
   "execution_count": 1,
   "id": "4e90c323",
   "metadata": {
    "pycharm": {
     "name": "#%%\n"
    }
   },
   "outputs": [
    {
     "name": "stdout",
     "output_type": "stream",
     "text": [
      "a is smaller than b\n"
     ]
    }
   ],
   "source": [
    "#  P 3.2.2\n",
    "\n",
    "def CompareTwoFunction(a,b):\n",
    "    if a == b:\n",
    "        print('a is equal to b')\n",
    "    elif a < b:\n",
    "        print('a is smaller than b')\n",
    "    else:\n",
    "        print('a is larger than b')\n",
    "        \n",
    "a = 10\n",
    "b = 17\n",
    "CompareTwoFunction(a,b)"
   ]
  },
  {
   "cell_type": "code",
   "execution_count": 324,
   "outputs": [
    {
     "name": "stdout",
     "output_type": "stream",
     "text": [
      "The largest number is x: 42\n"
     ]
    },
    {
     "data": {
      "text/plain": "(42, 41, 23)"
     },
     "execution_count": 324,
     "metadata": {},
     "output_type": "execute_result"
    }
   ],
   "source": [
    "#  P 3.2.3\n",
    "import random\n",
    "def CompareTwoVariables(x,y,z):\n",
    "        if (x > y) and (y > z):\n",
    "            print('The largest number is x:',x)\n",
    "        elif (x < y) and (y > z):\n",
    "            print('The largest number is y:',y)\n",
    "        elif (x < z) and (y < z):\n",
    "            print('The largest number is z:',z)\n",
    "        elif (x and y > z):\n",
    "            print('Largest numbers are x and y:',x)\n",
    "        elif (y and z > x):\n",
    "           print('Largest numbers are y and z:',y)\n",
    "        elif (x and z > y):\n",
    "            print('Largest number x and z:',x)\n",
    "        else:\n",
    "            print('x, y and z are equal')\n",
    "        return(x, y, z)\n",
    "\n",
    "#print('x =',  x,'\\ny =',  y,'\\nz =',  z)\n",
    "x = random.randrange(1,50)\n",
    "y = random.randrange(1,50)\n",
    "z = random.randrange(1,50)\n",
    "CompareTwoVariables(x,y,z)"
   ],
   "metadata": {
    "collapsed": false,
    "pycharm": {
     "name": "#%%\n"
    }
   }
  },
  {
   "cell_type": "markdown",
   "id": "440d7023",
   "metadata": {
    "pycharm": {
     "name": "#%% md\n"
    }
   },
   "source": [
    "### P3.3 Tuple\n",
    "\n",
    "#### P3.3.1 Create a tuple containing different data types.\n",
    "#### P3.3.2 Write a program to create a tuple with any number of integer values. Then\n",
    "- Find the length of the tuple.\n",
    "- Unpack the tuple in variables.\n",
    "- Try to remove an item from the tuple.\n",
    "\n",
    "\n"
   ]
  },
  {
   "cell_type": "code",
   "execution_count": 6,
   "id": "ba9e6572",
   "metadata": {
    "pycharm": {
     "name": "#%%\n"
    }
   },
   "outputs": [
    {
     "name": "stdout",
     "output_type": "stream",
     "text": [
      "('python', 8, 2.2)\n",
      "('En', 2, 3.3)\n",
      "('A', 10, 6.5)\n"
     ]
    }
   ],
   "source": [
    "# P 3.3.1\n",
    "t1 = 'python'\n",
    "t2 = 8\n",
    "t3 = 2.2\n",
    "Tup1 = tuple((t1,t2,t3))\n",
    "print(Tup1)\n",
    "\n",
    "# Eller\n",
    "Tup2 = ('En', 2, 3.3)\n",
    "print(Tup2)\n",
    "\n",
    "# Eller\n",
    "Tup3 = tuple(('A', 10, 6.5))\n",
    "print(Tup3)\n"
   ]
  },
  {
   "cell_type": "code",
   "execution_count": 1,
   "id": "6629274b",
   "metadata": {
    "pycharm": {
     "name": "#%%\n"
    }
   },
   "outputs": [
    {
     "name": "stdout",
     "output_type": "stream",
     "text": [
      "((8, 3), (6, (1.5, 2.5)), 2)\n",
      "Lenght of this tuple is: 3\n",
      "8\n",
      "3\n",
      "1.5\n",
      "((8, 3), 2)\n",
      "((8, 3), (1.5, 2.5), 2)\n"
     ]
    }
   ],
   "source": [
    "#  P 3.3.2\n",
    "# write a program to creat a tuple\n",
    "t1 = (8,3)\n",
    "t2 = (6,(1.5,2.5))\n",
    "t3 = 2\n",
    "Tup = tuple((t1,t2,t3))\n",
    "print(Tup)\n",
    "\n",
    "# Find the length\n",
    "L = len(Tup)\n",
    "print('Lenght of this tuple is:', L)\n",
    "\n",
    "# unpack the tuple in variables\n",
    "print(Tup[0][0])    # Samme som    print(t1[0])\n",
    "print(Tup[0][1])    # Samme som    print(t1[1]\n",
    "print(Tup[1][1][0]) # Samme som    print(t2[1][0])\n",
    "\n",
    "# Remove an item from the tuple.\n",
    "T1 = Tup[:1]  + Tup[2:]                     # t2 is removed (6,(1.5, 2.5))\n",
    "T2 = Tup[:[1][0]] + Tup[1][1:] + Tup[2:]    # Removed 6\n",
    "print(T1)\n",
    "print(T2)"
   ]
  }
 ],
 "metadata": {
  "kernelspec": {
   "display_name": "Python 3 (ipykernel)",
   "language": "python",
   "name": "python3"
  },
  "language_info": {
   "codemirror_mode": {
    "name": "ipython",
    "version": 3
   },
   "file_extension": ".py",
   "mimetype": "text/x-python",
   "name": "python",
   "nbconvert_exporter": "python",
   "pygments_lexer": "ipython3",
   "version": "3.9.12"
  }
 },
 "nbformat": 4,
 "nbformat_minor": 5
}