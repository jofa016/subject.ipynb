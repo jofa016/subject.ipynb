{
 "cells": [
  {
   "cell_type": "markdown",
   "id": "908ebd2e",
   "metadata": {},
   "source": [
    "# KUC, PGR107\n",
    "# HW5\n"
   ]
  },
  {
   "cell_type": "markdown",
   "id": "5f292824",
   "metadata": {},
   "source": [
    "## There are three tasks and should be finished and submitted through groups.\n",
    "## Each group is suggested to have 1-5 members.\n",
    "## In the submission, please include your implementation (executable code) as .ipynb document.\n",
    "## List your group name and group member information in the top (written in comments).\n"
   ]
  },
  {
   "cell_type": "markdown",
   "id": "511d12a1",
   "metadata": {},
   "source": [
    "### HW5.1 Create dataframes in various ways using Pandas objects. Please use 4 ways which are List, numpy, Series and Dictionary."
   ]
  },
  {
   "cell_type": "code",
   "execution_count": 1,
   "id": "0c33feab",
   "metadata": {},
   "outputs": [],
   "source": [
    "import pandas as pd"
   ]
  },
  {
   "cell_type": "code",
   "execution_count": 13,
   "id": "6cb84664",
   "metadata": {},
   "outputs": [
    {
     "name": "stdout",
     "output_type": "stream",
     "text": [
      "<class 'list'> <class 'list'>\n",
      "       Months\n",
      "1     January\n",
      "2    February\n",
      "3       March\n",
      "4       April\n",
      "5         May\n",
      "6        June\n",
      "7        July\n",
      "8      August\n",
      "9   September\n",
      "10    October\n",
      "11   November\n",
      "12   December\n",
      "<class 'pandas.core.frame.DataFrame'>\n"
     ]
    }
   ],
   "source": [
    "# List\n",
    "Months = ['January','February','March','April','May','June','July',\n",
    "        'August','September','October','November','December']\n",
    "Days = [31,28,31,30,31,30,31,31,30,31,30,31]\n",
    "print(type(Months),type(Days))\n",
    "\n",
    "df_Months = pd.DataFrame(Months,columns=['Months'],index=[1,2,3,4,5,6,7,8,9,10,11,12])\n",
    "print(df_Months)\n",
    "print(type(df_Months))"
   ]
  },
  {
   "cell_type": "code",
   "execution_count": 15,
   "id": "e6a50f9d",
   "metadata": {},
   "outputs": [
    {
     "name": "stdout",
     "output_type": "stream",
     "text": [
      "<class 'numpy.ndarray'> <class 'numpy.ndarray'>\n",
      "       Months  Days\n",
      "1     January    31\n",
      "2    February    28\n",
      "3       March    31\n",
      "4       April    30\n",
      "5         May    31\n",
      "6        June    30\n",
      "7        July    31\n",
      "8      August    31\n",
      "9   September    30\n",
      "10    October    31\n",
      "11   November    30\n",
      "12   December    31\n",
      "<class 'pandas.core.frame.DataFrame'>\n"
     ]
    }
   ],
   "source": [
    "#numpy\n",
    "import numpy as np\n",
    "Months = np.array(['January','February','March','April','May','June','July',\n",
    "        'August','September','October','November','December'])\n",
    "Days = np.array([31,28,31,30,31,30,31,31,30,31,30,31])\n",
    "print(type(Months),type(Days))\n",
    "\n",
    "Days_Months = pd.DataFrame({'Months':Months,'Days':Days,},index=[1,2,3,4,5,6,7,8,9,10,11,12])\n",
    "print(Days_Months)\n",
    "print(type(Days_Months))"
   ]
  },
  {
   "cell_type": "code",
   "execution_count": 18,
   "id": "bf6041fe",
   "metadata": {},
   "outputs": [
    {
     "name": "stdout",
     "output_type": "stream",
     "text": [
      "<class 'pandas.core.series.Series'> <class 'pandas.core.series.Series'>\n",
      "       Months  Days\n",
      "1     January    31\n",
      "2    February    28\n",
      "3       March    31\n",
      "4       April    30\n",
      "5         May    31\n",
      "6        June    30\n",
      "7        July    31\n",
      "8      August    31\n",
      "9   September    30\n",
      "10    October    31\n",
      "11   November    30\n",
      "12   December    31\n",
      "<class 'pandas.core.frame.DataFrame'>\n"
     ]
    }
   ],
   "source": [
    "# Series\n",
    "Months = ('January','February','March','April','May','June','July',\n",
    "        'August','September','October','November','December')\n",
    "Days = (31,28,31,30,31,30,31,31,30,31,30,31)\n",
    "s_Months = pd.Series(Months)\n",
    "s_Days = pd.Series(Days)\n",
    "print(type(s_Months),type(s_Days))\n",
    "\n",
    "Days_Months = pd.DataFrame({'Months':Months,'Days':Days,},index=[1,2,3,4,5,6,7,8,9,10,11,12])\n",
    "print(Days_Months)\n",
    "print(type(Days_Months))"
   ]
  },
  {
   "cell_type": "code",
   "execution_count": 17,
   "id": "61e81d14",
   "metadata": {},
   "outputs": [
    {
     "name": "stdout",
     "output_type": "stream",
     "text": [
      "<class 'dict'>\n",
      "       Months  Days\n",
      "1     January    31\n",
      "2    February    28\n",
      "3       March    31\n",
      "4       April    30\n",
      "5         May    31\n",
      "6        June    30\n",
      "7        July    31\n",
      "8      August    31\n",
      "9   September    30\n",
      "10    October    31\n",
      "11   November    30\n",
      "12   December    31\n",
      "<class 'pandas.core.frame.DataFrame'>\n"
     ]
    }
   ],
   "source": [
    "# Dict\n",
    "Months = {'Months':['January','February','March','April','May',\n",
    "                    'June','July','August','September','October','November','December'],\n",
    "          'Days':[31,28,31,30,31,30,31,31,30,31,30,31]}\n",
    "print(type(Months))\n",
    "\n",
    "df_Months = pd.DataFrame(Months,index=[1,2,3,4,5,6,7,8,9,10,11,12])\n",
    "print(df_Months)\n",
    "print(type(df_Months))"
   ]
  },
  {
   "cell_type": "markdown",
   "id": "e466138e",
   "metadata": {},
   "source": [
    "### HW5.2 There is follwing dataframe. Multiply each element in column 123 by 10. (Please use iloc and loc both not just one to practice.)"
   ]
  },
  {
   "cell_type": "code",
   "execution_count": 31,
   "id": "025bf6ab",
   "metadata": {
    "pycharm": {
     "is_executing": true
    }
   },
   "outputs": [
    {
     "name": "stdout",
     "output_type": "stream",
     "text": [
      "     abc  123  multiplied\n",
      "row0   a    1          10\n",
      "row1   b    2          20\n",
      "row2   c    3          30\n",
      "row3   d    4          40\n",
      "row4   e    5          50\n"
     ]
    }
   ],
   "source": [
    "import pandas as pd\n",
    "\n",
    "data_abc = ['a', 'b', 'c', 'd', 'e']\n",
    "data_123 = [1, 2, 3, 4, 5]\n",
    "\n",
    "data_index = ['row0', 'row1', 'row2', 'row3', 'row4']\n",
    "data = pd.DataFrame({'abc': data_abc, '123':data_123}, index=data_index)\n",
    "data['multiplied'] = data.loc[:,'123']*10\n",
    "\n",
    "print(data)"
   ]
  },
  {
   "cell_type": "code",
   "execution_count": 33,
   "id": "baf7f240",
   "metadata": {},
   "outputs": [
    {
     "name": "stdout",
     "output_type": "stream",
     "text": [
      "     abc  123  multiplied\n",
      "row0   a    1          10\n",
      "row1   b    2          20\n",
      "row2   c    3          30\n",
      "row3   d    4          40\n",
      "row4   e    5          50\n"
     ]
    }
   ],
   "source": [
    "data['multiplied'] = data.iloc[:,1]*10\n",
    "print(data)"
   ]
  },
  {
   "cell_type": "markdown",
   "id": "1be9e022",
   "metadata": {},
   "source": [
    "### HW5.3 There is follwing numpy.ndarray which is arr. Please find the square root of arr using Universal Function and assign it to the variable arr2. Then change arr2 to pandas. If there are nan values in pandas, remove them."
   ]
  },
  {
   "cell_type": "code",
   "execution_count": 45,
   "id": "f0ae4911",
   "metadata": {},
   "outputs": [
    {
     "name": "stdout",
     "output_type": "stream",
     "text": [
      "array:\n",
      " [ 1 -2  3 -4  5 -6]\n"
     ]
    }
   ],
   "source": [
    "import numpy as np\n",
    "import pandas as pd\n",
    "\n",
    "\n",
    "arr = np.array([1,-2,3,-4,5,-6])\n",
    "print('array:\\n',arr)"
   ]
  },
  {
   "cell_type": "code",
   "execution_count": 46,
   "id": "80885df4",
   "metadata": {},
   "outputs": [
    {
     "name": "stdout",
     "output_type": "stream",
     "text": [
      "new array:\n",
      " [1.                nan 1.73205081        nan 2.23606798        nan]\n"
     ]
    },
    {
     "name": "stderr",
     "output_type": "stream",
     "text": [
      "C:\\Users\\joann\\AppData\\Local\\Temp\\ipykernel_7636\\3039171379.py:1: RuntimeWarning: invalid value encountered in sqrt\n",
      "  arr2 = np.sqrt(arr)\n"
     ]
    }
   ],
   "source": [
    "\n",
    "arr2 = np.sqrt(arr)\n",
    "print('new array:\\n',arr2)"
   ]
  },
  {
   "cell_type": "code",
   "execution_count": 48,
   "id": "3e1759b0",
   "metadata": {},
   "outputs": [
    {
     "name": "stdout",
     "output_type": "stream",
     "text": [
      "          0\n",
      "0  1.000000\n",
      "1       NaN\n",
      "2  1.732051\n",
      "3       NaN\n",
      "4  2.236068\n",
      "5       NaN\n"
     ]
    }
   ],
   "source": [
    "pd_arr2= pd.DataFrame(arr2)\n",
    "print(pd_arr2)"
   ]
  },
  {
   "cell_type": "code",
   "execution_count": 51,
   "id": "4359d7c1",
   "metadata": {},
   "outputs": [
    {
     "data": {
      "text/html": [
       "<div>\n",
       "<style scoped>\n",
       "    .dataframe tbody tr th:only-of-type {\n",
       "        vertical-align: middle;\n",
       "    }\n",
       "\n",
       "    .dataframe tbody tr th {\n",
       "        vertical-align: top;\n",
       "    }\n",
       "\n",
       "    .dataframe thead th {\n",
       "        text-align: right;\n",
       "    }\n",
       "</style>\n",
       "<table border=\"1\" class=\"dataframe\">\n",
       "  <thead>\n",
       "    <tr style=\"text-align: right;\">\n",
       "      <th></th>\n",
       "      <th>0</th>\n",
       "    </tr>\n",
       "  </thead>\n",
       "  <tbody>\n",
       "    <tr>\n",
       "      <th>0</th>\n",
       "      <td>1.000000</td>\n",
       "    </tr>\n",
       "    <tr>\n",
       "      <th>2</th>\n",
       "      <td>1.732051</td>\n",
       "    </tr>\n",
       "    <tr>\n",
       "      <th>4</th>\n",
       "      <td>2.236068</td>\n",
       "    </tr>\n",
       "  </tbody>\n",
       "</table>\n",
       "</div>"
      ],
      "text/plain": [
       "          0\n",
       "0  1.000000\n",
       "2  1.732051\n",
       "4  2.236068"
      ]
     },
     "execution_count": 51,
     "metadata": {},
     "output_type": "execute_result"
    }
   ],
   "source": [
    "pd_arr2.dropna()"
   ]
  }
 ],
 "metadata": {
  "kernelspec": {
   "display_name": "Python 3 (ipykernel)",
   "language": "python",
   "name": "python3"
  },
  "language_info": {
   "codemirror_mode": {
    "name": "ipython",
    "version": 3
   },
   "file_extension": ".py",
   "mimetype": "text/x-python",
   "name": "python",
   "nbconvert_exporter": "python",
   "pygments_lexer": "ipython3",
   "version": "3.9.12"
  }
 },
 "nbformat": 4,
 "nbformat_minor": 5
}
