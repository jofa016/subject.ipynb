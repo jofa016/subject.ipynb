{
 "cells": [
  {
   "cell_type": "markdown",
   "metadata": {},
   "source": [
    "# KUC, PGR107\n",
    "# HW5\n"
   ]
  },
  {
   "cell_type": "markdown",
   "metadata": {},
   "source": [
    "## There are three tasks and should be finished and submitted through groups.\n",
    "## Each group is suggested to have 1-5 members.\n",
    "## In the submission, please include your implementation (executable code) as .ipynb document.\n",
    "## List your group name and group member information in the top (written in comments).\n"
   ]
  },
  {
   "cell_type": "markdown",
   "metadata": {},
   "source": [
    "### HW5.1 Create dataframes in various ways using Pandas objects. Please use 4 ways which are List, numpy, Series and Dictionary."
   ]
  },
  {
   "cell_type": "markdown",
   "metadata": {},
   "source": [
    "### HW5.2 There is follwing dataframe. Multiply each element in column 123 by 10. (Please use iloc and loc both not just one to practice.)"
   ]
  },
  {
   "cell_type": "code",
   "execution_count": null,
   "metadata": {
    "pycharm": {
     "is_executing": true
    }
   },
   "outputs": [],
   "source": [
    "import pandas as pd\n",
    "\n",
    "data_abc = ['a', 'b', 'c', 'd', 'e']\n",
    "data_123 = [1, 2, 3, 4, 5]\n",
    "data_index = ['row0', 'row1', 'row2', 'row3', 'row4']\n",
    "data = pd.DataFrame({'abc': data_abc, '123':data_123}, index=data_index)\n",
    "data"
   ]
  },
  {
   "cell_type": "markdown",
   "metadata": {},
   "source": [
    "### HW5.3 There is follwing numpy.ndarray which is arr. Please find the square root of arr using Universal Function and assign it to the variable arr2. Then change arr2 to pandas. If there are nan values in pandas, remove them."
   ]
  },
  {
   "cell_type": "code",
   "execution_count": 3,
   "metadata": {},
   "outputs": [
    {
     "name": "stdout",
     "output_type": "stream",
     "text": [
      "[ 1 -2  3 -4  5 -6]\n"
     ]
    }
   ],
   "source": [
    "import numpy as np\n",
    "import pandas as pd\n",
    "\n",
    "\n",
    "arr = np.array([1,-2,3,-4,5,-6])\n",
    "print(arr)"
   ]
  }
 ],
 "metadata": {
  "kernelspec": {
   "display_name": "Python 3",
   "language": "python",
   "name": "python3"
  },
  "language_info": {
   "codemirror_mode": {
    "name": "ipython",
    "version": 3
   },
   "file_extension": ".py",
   "mimetype": "text/x-python",
   "name": "python",
   "nbconvert_exporter": "python",
   "pygments_lexer": "ipython3",
   "version": "3.8.5"
  }
 },
 "nbformat": 4,
 "nbformat_minor": 5
}
